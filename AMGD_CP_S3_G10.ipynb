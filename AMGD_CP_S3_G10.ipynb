{
 "cells": [
  {
   "cell_type": "markdown",
   "id": "e5da6a54",
   "metadata": {},
   "source": [
    "# Arquitectura, modelado y gestión de datos en Data Science\n",
    "<hr />\n",
    "\n",
    "## Semana 3 - Ejercicio práctico 3 - Grupo 10\n",
    "### Realizado por:\n",
    "💻 Mayra Cecilia Salazar Grandes   \n",
    "💻 José Manuel Espinoza Bone"
   ]
  },
  {
   "cell_type": "markdown",
   "id": "c5ea8e46",
   "metadata": {},
   "source": [
    "# 0️⃣ Inicializar/Preparar ambiente\n",
    "\n",
    "Aquí instalamos las dependencias externas que no se encuentran en la biblioteca estándar de Python para lograr que el presente notebook se puede ejecutar sin problemas."
   ]
  },
  {
   "cell_type": "code",
   "execution_count": null,
   "id": "c5ea53ad",
   "metadata": {},
   "outputs": [],
   "source": [
    "import sys\n",
    "import subprocess\n",
    "def RunCommand(commandList: list[str]):\n",
    "    print(\"    ⏳ Ejecutando: \", \" \".join(commandList))\n",
    "    result = subprocess.run(commandList, stdout=subprocess.DEVNULL,stderr=subprocess.PIPE, text=True)\n",
    "    if result.returncode != 0:\n",
    "        print(result.stderr) \n",
    "\n",
    "print(\"🟦 Instalando las dependencias externas\")\n",
    "RunCommand([sys.executable, \"-m\", \"pip\", \"install\", \"numpy\"]) \n",
    "RunCommand([sys.executable, \"-m\", \"pip\", \"install\", \"pandas\"])\n",
    "RunCommand([sys.executable, \"-m\", \"pip\", \"install\", \"tabulate\"])\n",
    "RunCommand([sys.executable, \"-m\", \"pip\", \"install\", \"matplotlib\"])\n",
    "RunCommand([sys.executable, \"-m\", \"pip\", \"install\", \"seaborn\"])\n",
    "RunCommand([sys.executable, \"-m\", \"pip\", \"install\", \"requests\"])\n",
    "RunCommand([sys.executable, \"-m\", \"pip\", \"install\", \"openpyxl\"]) \n",
    "RunCommand([sys.executable, \"-m\", \"pip\", \"install\", \"missingno\"]) "
   ]
  },
  {
   "cell_type": "code",
   "execution_count": null,
   "id": "699e32e3",
   "metadata": {},
   "outputs": [],
   "source": [
    "#Importando las dependencias\n",
    "import pandas \n",
    "import pandas as pd\n",
    "import numpy \n",
    "import numpy as np\n",
    "import matplotlib.pyplot as pyplot\n",
    "import matplotlib.pyplot as plt\n",
    "import seaborn\n",
    "import seaborn as sns\n",
    "import requests\n",
    "from tabulate import tabulate\n",
    "import datetime\n",
    "from pathlib import Path\n",
    "import missingno as msno\n",
    "\n",
    "# Mostrar todas las filas\n",
    "pandas.set_option('display.max_rows', None)\n",
    "# Mostrar todas las columnas\n",
    "pandas.set_option('display.max_columns', None)\n",
    "# Ajustar el ancho máximo de columna (para no truncar texto)\n",
    "pandas.set_option('display.max_colwidth', None)\n",
    "\n",
    "# --- Funciones utilitarias ---\n",
    "# Función para mostrar la información del DataFrame\n",
    "def ShowTableInfo(df:pandas.DataFrame, title):\n",
    "    display(f\"ℹ️ {title} ℹ️\".upper())\n",
    "    df.info()\n",
    "    display()\n",
    "\n",
    "# Función para mostrar las n primeras filas del DataFrame.\n",
    "def ShowTableHead(df:pandas.DataFrame, title:str, headQty=10):\n",
    "    display(f\"ℹ️ {title}: Primeros {headQty} elementos.\".upper())\n",
    "    display(df.head(headQty))\n",
    "    display()\n",
    "\n",
    "# Función para mostrar las n últimas filas del DataFrame.\n",
    "def ShowTableTail(df:pandas.DataFrame, tailQty=10):\n",
    "    display(f\"ℹ️ Últimos {tailQty} elementos.\".upper())\n",
    "    display(df.tail(tailQty))\n",
    "    display()\n",
    "\n",
    "# Mostrar el tamaño del DataFrame\n",
    "def ShowTableShape(df:pandas.DataFrame, title:str):\n",
    "    display(f\"ℹ️ Tamaño de los datos - {title}\".upper())\n",
    "    display(df.shape)\n",
    "    display()\n",
    "\n",
    "# Función para mostrar la estadística descriptiva de todas las columnas del DataFrame, por tipo de dato.\n",
    "def ShowTableStats(df: pandas.DataFrame, title:str = \"\"):\n",
    "    display(f\"ℹ️ Estadística descriptiva - {title}\".upper())\n",
    "    numeric_types = ['int64', 'float64', 'Int64', 'Float64']\n",
    "    numeric_cols = df.select_dtypes(include=numeric_types)\n",
    "    if not numeric_cols.empty:\n",
    "        display(\"    🔢 Columnas numéricas\")\n",
    "        numeric_desc = numeric_cols.describe().round(2)\n",
    "        display(numeric_desc)\n",
    "        #print(tabulate(numeric_desc, headers='keys', tablefmt='fancy_grid')) \n",
    "    non_numeric_types = ['object', 'string', 'bool', 'category']\n",
    "    non_numeric_cols = df.select_dtypes(include=non_numeric_types)\n",
    "    if not non_numeric_cols.empty:\n",
    "        display(\"    🔡 Columnas no numéricas\")\n",
    "        non_numeric_desc = non_numeric_cols.describe()\n",
    "        display(non_numeric_desc)\n",
    "        #print(tabulate(non_numeric_desc, headers='keys', tablefmt='fancy_grid'))\n",
    "    datetime_cols = df.select_dtypes(include=['datetime'])\n",
    "    if not datetime_cols.empty:\n",
    "        display(\"    📅 Columnas fechas\")\n",
    "        datetime_desc = datetime_cols.describe()\n",
    "        display(datetime_desc)\n",
    "        #print(tabulate(datetime_desc, headers='keys', tablefmt='fancy_grid'))\n",
    "\n",
    "# Función para mostrar los valores nulos o NaN de cada columna en un DataFrame\n",
    "def ShowNanValues(df: pandas.DataFrame):\n",
    "    display(f\"ℹ️ Contador de valores Nulos\".upper())\n",
    "    nulls_count = df.isnull().sum()\n",
    "    nulls_df = nulls_count.reset_index()\n",
    "    nulls_df.columns = ['Columna', 'Cantidad_Nulos']\n",
    "    display(nulls_df)\n",
    "    display()\n",
    "\n",
    "def LoadCsvDataset(uri: str)-> pandas.DataFrame:\n",
    "    uri = \"https://raw.githubusercontent.com/UIDE-Tareas/1-Arquitectura-Modelado-Gestion-Datos-Data-Science-Tarea3/refs/heads/main/Datasets/oil-spill.csv\"\n",
    "    display(f\"🟦 Cargando dataset desde \\\"{uri}\\\"\")\n",
    "    try:\n",
    "        df= pd.read_csv (uri,header=None)\n",
    "        display(f\"Dataset cargado\")\n",
    "        return df\n",
    "    except:\n",
    "        display(\"Ocurrió un error al leer el dataset!.\")\n",
    "        sys.exit()"
   ]
  },
  {
   "cell_type": "markdown",
   "id": "92838ec5",
   "metadata": {},
   "source": [
    "# 1️⃣ Dataset Oil Spill. FASE 1"
   ]
  },
  {
   "cell_type": "markdown",
   "id": "746a2eb7",
   "metadata": {},
   "source": [
    "✅ Importar dataset y realizar análisis exploratorio."
   ]
  },
  {
   "cell_type": "code",
   "execution_count": null,
   "id": "dc0da48d",
   "metadata": {},
   "outputs": [],
   "source": [
    "uri = \"https://raw.githubusercontent.com/UIDE-Tareas/1-Arquitectura-Modelado-Gestion-Datos-Data-Science-Tarea3/refs/heads/main/Datasets/oil-spill.csv\"\n",
    "df_original = LoadCsvDataset(uri)"
   ]
  },
  {
   "cell_type": "code",
   "execution_count": null,
   "id": "e3b7fe32",
   "metadata": {},
   "outputs": [],
   "source": [
    "df_Main= df_original.copy()\n",
    "ShowTableInfo(df_Main, \"Análisis Exploratorio\".upper())\n",
    "ShowTableStats(df_Main)\n",
    "ShowTableHead(df_Main, \"Dataset original\")\n",
    "ShowNanValues(df_Main)"
   ]
  },
  {
   "cell_type": "markdown",
   "id": "6a5a30e0",
   "metadata": {},
   "source": [
    "✅Identifica cuántas y cuales columnas tienen valores únicos.    \n",
    "✅Eliminalas e imprime el tamaño del dataset antes y después.    "
   ]
  },
  {
   "cell_type": "code",
   "execution_count": null,
   "id": "9e4b2096",
   "metadata": {},
   "outputs": [],
   "source": [
    "#df_Main = df_original.copy()\n",
    "# Tamaño original dataset\n",
    "df_eliminados_unique = df_Main.copy()\n",
    "print(f\"Tamaño original del dataset: {df_Main.shape}\")\n",
    "# Identificar columnas con un solo valor único\n",
    "columnas_valor_unico = [col for col in df_Main.columns if df_Main[col].nunique() == 1]\n",
    "print(f\"Número de columnas con un solo valor único: {len(columnas_valor_unico)}\")\n",
    "print(columnas_valor_unico)\n",
    "# Eliminar esas columnas\n",
    "df_eliminados_unique.drop(columns=columnas_valor_unico, inplace=True)\n",
    "print(f\"Tamaño después de eliminar columnas con un solo valor único : {df_eliminados_unique.shape}\")\n",
    "ShowTableInfo(df_eliminados_unique, \"Luego de eliminar uniques\")"
   ]
  },
  {
   "cell_type": "markdown",
   "id": "99ffdd7a",
   "metadata": {},
   "source": [
    "✅ Porcentaje de valores únicos por columna con respecto al total                                            \n",
    "✅ Define límite de incidencia(umbral), identificar columnas por debajo de ese umbral y eliminarlas mostrando su porcentaje\n",
    "\n",
    "**Límite de incidencia**\n",
    "\n",
    "Al analizar los porcentajes de valores únicos por columna podemos evidenciar lo siguiente:\n",
    "\n",
    "* Los porcentajes menores al 1% podrían contener poca información útil, producto a sus valores muy constantes. \n",
    "\n",
    "Para esta práctica se decidio que el umbral para eliminar los columnas sería los porcentajes que están menores al 1%. La variable que maneja este valor es UMBRAL_MIN."
   ]
  },
  {
   "cell_type": "code",
   "execution_count": null,
   "id": "ce64afc8",
   "metadata": {},
   "outputs": [],
   "source": [
    "\n",
    "## Función para mostrar el porcentaje de valores únicos con respecto al total de filas.\n",
    "def  ShowUniquePercentVsTotal(df: pandas.DataFrame):\n",
    "    display (\"🟦 Porcentaje de valores únicos por columna\".upper())\n",
    "    for col in df.columns:\n",
    "        total = df[col].shape[0]\n",
    "        unicos = df[col].nunique()\n",
    "        porcentaje = (unicos / total) * 100\n",
    "        # Impresión valores únicos por columna \n",
    "        print(f\"{col}: {unicos} valores únicos → {porcentaje:.2f}% del total {total}\")\n",
    "    display()\n",
    "\n",
    "# Función para eliminar las columnas en base al umbral, si drop es True se elimina directamente del dataframe original, si output es True se imprime el valor de la columna a eliminar.\n",
    "def eliminar_columnas_incidencia_porcentaje(df:pandas.DataFrame, umbral, drop: bool, output: bool = False):\n",
    "    umbral = abs(umbral)\n",
    "    if output:\n",
    "        display(f\"🟦 Columnas a ser eliminadas cuyo porcentaje de uniques es < {umbral}%\")\n",
    "    # Creando un diccionario donde se guardará la columna y porcentaje a ser eliminado\n",
    "    columnas_eliminadas = pandas.DataFrame({\"Name\": [], \"PorcentajeUniques\": [], \"TotalUniques\": [], \"Total\": []})\n",
    "    df_columnas_eliminadas = pandas.DataFrame()\n",
    "    for col in df.columns:\n",
    "        total = df[col].shape[0]\n",
    "        unicos = df[col].nunique()\n",
    "        porcentaje = (unicos / total) * 100\n",
    "        if (porcentaje < umbral):\n",
    "            # Impresión de columnas a eliminar\n",
    "            if output:\n",
    "                print(f\"{col}: {unicos} valores únicos → {porcentaje:.2f}% del total\")\n",
    "            df_columnas_eliminadas[col] = df[col].copy()\n",
    "            columnas_eliminadas.loc[len(columnas_eliminadas)] = [f\"{col}\", porcentaje, unicos, total]\n",
    "             # Eliminar columna que cumple la condición\n",
    "            if drop:\n",
    "                df.drop(columns=col, inplace= True)\n",
    "    return df, df_columnas_eliminadas,columnas_eliminadas\n",
    "\n",
    "df_eliminado_incidencias = df_Main.copy()\n",
    "ShowUniquePercentVsTotal(df_eliminado_incidencias)\n",
    "\n",
    "# Umbrales\n",
    "UMBRAL_MIN = 1\n",
    "df_eliminado_incidencias,_, columnas_eliminadas = eliminar_columnas_incidencia_porcentaje(df_eliminado_incidencias, UMBRAL_MIN, True, False)\n",
    "\n",
    "ShowTableInfo(df_eliminado_incidencias, \"Eliminado incidencias\")\n",
    "ShowTableHead(df_eliminado_incidencias, \"Eliminado incidencias\")"
   ]
  },
  {
   "cell_type": "markdown",
   "id": "684b47e2",
   "metadata": {},
   "source": [
    "✅ Analizar y graficar cuantas columnas serán eliminadas usando varios umbrales. La variable UMBRALES tiene diferentes umbrales para ser probados."
   ]
  },
  {
   "cell_type": "code",
   "execution_count": null,
   "id": "23fa1496",
   "metadata": {},
   "outputs": [],
   "source": [
    "UMBRALES = [0.1,0.5,1,5,10,25,50,75,90,95,100, 101, 500, -1000,-75]\n",
    "cantidad_eliminadas_por_umbral = pandas.DataFrame({\"Umbral\": [], \"Cantidad\": []})\n",
    "for umbral in UMBRALES:\n",
    "    df_original = df_Main.copy()\n",
    "    df_original,df_eliminadas, columnas_eliminadas = eliminar_columnas_incidencia_porcentaje(df_original, umbral, False, False)\n",
    "    # Agregando nuevo elemento al DF con el valor del umbral y la cantidad de columnas eliminadas\n",
    "    cantidad_eliminadas_por_umbral.loc[len(cantidad_eliminadas_por_umbral)] = [umbral, columnas_eliminadas.shape[0]]\n",
    "\n",
    "display(\"🟦 Cantidad de Columnas a ser eliminadas por umbral(cantidad valores únicos que están debajo)\".upper())\n",
    "display(cantidad_eliminadas_por_umbral)\n",
    "\n",
    "import matplotlib.pyplot as plt\n",
    "import seaborn as sns\n",
    "# Función para mostrar el gráfico de barras de cada umbral versus el número de columnas eliminadas para ese umbral\n",
    "def graficar_umbrales(df: pandas.DataFrame):\n",
    "    plt.figure(figsize=(12, 6))\n",
    "    sns.barplot(x=\"Umbral\", y=\"Cantidad\", data=df, palette=\"magma\", hue=\"Umbral\")\n",
    "    plt.xticks(rotation=90)\n",
    "    plt.xlabel(\"Umbral\")\n",
    "    plt.ylabel(\"Cantidad de columnas a ser eliminadas\")\n",
    "    plt.title(\"Cantidad de Columnas a ser eliminadas por umbral(cantidad valores únicos que están debajo)\")\n",
    "    plt.legend(bbox_to_anchor=(1.05, 1), loc=\"upper left\")\n",
    "    plt.tight_layout()\n",
    "    plt.show()\n",
    "\n",
    "graficar_umbrales(cantidad_eliminadas_por_umbral)\n"
   ]
  },
  {
   "cell_type": "markdown",
   "id": "346ba66a",
   "metadata": {},
   "source": [
    "✅ Visualiza la distribución de los valores de las columnas filtradas, mediante gráficos Barplot, histograma o similar. Para este notebook se escogió el umbral con menor número de columnas eliminadas que es 5%, en el cual se eliminan 13 columnas; todo esto con el objetivo de generar la menor cantidad de gráficos."
   ]
  },
  {
   "cell_type": "code",
   "execution_count": null,
   "id": "43d63665",
   "metadata": {},
   "outputs": [],
   "source": [
    "import matplotlib.pyplot as plt\n",
    "import seaborn as sns\n",
    "UMBRAL_MIN = 0.5\n",
    "\n",
    "\n",
    "def DibujarBarras(df: pandas.DataFrame, umbral):\n",
    "    display(f\"🟦 Valores de las columnas eliminadas para el umbral {umbral}\".upper())\n",
    "    df_original = df.copy()\n",
    "    df_original, df_eliminadas, columnas_eliminadas = eliminar_columnas_incidencia_porcentaje(df_original, umbral, False, False)\n",
    "    \n",
    "    for col in df_eliminadas.columns:\n",
    "        plt.figure(figsize=(10, 5))\n",
    "        sns.histplot(df_eliminadas[col].values, bins=df_eliminadas[col].nunique(), kde=False, color=\"skyblue\", edgecolor=\"black\")\n",
    "        plt.xlabel(f\"Valor: {col}\")\n",
    "        plt.ylabel(\"Frecuencia\")\n",
    "        plt.title(f\"Frecuencias de característica {col}\")\n",
    "        plt.tight_layout()\n",
    "        plt.show()\n",
    "\n",
    "UMBRALES = [5]\n",
    "for umbral in UMBRALES:\n",
    "    DibujarBarras(df_Main, umbral)\n",
    "    \n",
    "\n"
   ]
  },
  {
   "cell_type": "markdown",
   "id": "62f39e0b",
   "metadata": {},
   "source": [
    "✅ Realiza un análisis de varianza por columna y comenta los resultados"
   ]
  },
  {
   "cell_type": "code",
   "execution_count": null,
   "id": "7a7cb5ea",
   "metadata": {},
   "outputs": [],
   "source": [
    "import matplotlib.pyplot as plt\n",
    "# Calcular varianza de cada columna numérica\n",
    "varianzas = df_Main.var(numeric_only=True).sort_values(ascending=False).reset_index()\n",
    "varianzas.columns = [ \"Columna\", \"Varianza\"]\n",
    "# Mostrar las varianzas ordenadas de mayor a menor\n",
    "print(\"Características por varianza ordenada de mayor a menor\\n\")\n",
    "print(varianzas)\n",
    "# Crear el gráfico\n",
    "\n",
    "plt.figure(figsize=(12, 6))\n",
    "sns.barplot(x=\"Columna\", y=\"Varianza\", data=varianzas, palette=\"magma\", hue=\"Columna\")\n",
    "plt.xticks(rotation=90)\n",
    "plt.xlabel(\"Umbral\")\n",
    "plt.ylabel(\"Cantidad de columnas a ser eliminadas\")\n",
    "plt.title(\"Cantidad de Columnas a ser eliminadas por umbral(cantidad valores únicos que están debajo)\")\n",
    "plt.legend(bbox_to_anchor=(1.05, 1), loc=\"upper left\")\n",
    "plt.tight_layout()\n",
    "plt.show()"
   ]
  },
  {
   "cell_type": "markdown",
   "id": "6c0a1468",
   "metadata": {},
   "source": [
    "Analisis varianza\n",
    "* Al analizar el gráfico se puede observar que la mayoría de las columnas tienen una varianza muy baja, casi cercana a cero, posiblemente contienen valores casi constantes, lo que significa que aportan poca o ninguna información al modelo.\n",
    "* La columna \"Característica_5\" tiene una varianza extremadamente alta, del orden de 1e13, lo cual la hace una variable dominante en términos de escala y dispersión, por tal motivo se debería revisar si no esta en una escala diferente al resto, probablemente necesite normalización o estandarización para evitar que domine al entrenar un modelo de machine learning.\n",
    "\n"
   ]
  },
  {
   "cell_type": "markdown",
   "id": "f275c068",
   "metadata": {},
   "source": [
    "# 2️⃣ Dataset  Pima-indians-diabetes. FASE 2."
   ]
  },
  {
   "cell_type": "markdown",
   "id": "e188fd53",
   "metadata": {},
   "source": [
    "✅ Importar dataset y realizar análisis exploratorio."
   ]
  },
  {
   "cell_type": "code",
   "execution_count": null,
   "id": "11f3697c",
   "metadata": {},
   "outputs": [],
   "source": [
    "uri = \"https://raw.githubusercontent.com/UIDE-Tareas/1-Arquitectura-Modelado-Gestion-Datos-Data-Science-Tarea3/refs/heads/main/Datasets/diabetes.csv\"\n",
    "df_Main = LoadCsvDataset(uri)"
   ]
  },
  {
   "cell_type": "code",
   "execution_count": null,
   "id": "be9c7666",
   "metadata": {},
   "outputs": [],
   "source": [
    "df_Main = df_original.copy()\n",
    "ShowTableInfo(df_Main, \"Diabetes dataset análisis exploratorio\")\n",
    "ShowTableStats(df_Main)\n",
    "ShowTableHead(df_Main, \"Diabetes dataset\")\n",
    "ShowNanValues(df_Main)"
   ]
  },
  {
   "cell_type": "markdown",
   "id": "bd13e24c",
   "metadata": {},
   "source": [
    "✅ Determina, consultando la documentación, qué columnas consideran los ceros como datos faltantes.\n",
    "\n",
    "Consultando usando la IA sobre cada columna se obtuvo lo siguiente:\n",
    "- Glucose. Un nivel de glucosa 0 en la sangre no es compatible con la vida humana.\n",
    "\n",
    "- BloodPressure (presión arterial diastólica). Una presión diastólica de 0 mmHg significa que la persona está muerta.\n",
    "\n",
    "- SkinThickness (grosor de la piel). Si el valor es 0 significa que no tiene piel.\n",
    "\n",
    "- Insulin (insulina en sangre). Un valor 0 no existe en el contexto de la medicina.\n",
    "\n",
    "- BMI (índice de masa corporal). Un valor 0 indica que la persona no tiene masa.\n",
    "\n",
    "En todos estos casos el valor 0 indica que es faltante, ya que son imposibles clínicamente, el colocar en 0 puede implicar una persona que no está viva o inexistente."
   ]
  },
  {
   "cell_type": "markdown",
   "id": "80157b73",
   "metadata": {},
   "source": [
    "✅ Reemplaza estos ceros por NaN  y genera dos  datasets: uno  eliminando los registros faltantes y otro manteniendo los registros reemplazados. "
   ]
  },
  {
   "cell_type": "code",
   "execution_count": null,
   "id": "431f3621",
   "metadata": {},
   "outputs": [],
   "source": [
    "columnsWith0 = [\"Glucose\", \"BloodPressure\", \"SkinThickness\", \"Insulin\", \"BMI\"]\n",
    "dfReplaced = df_Main.copy()\n",
    "dfReplaced[columnsWith0] = dfReplaced[columnsWith0].replace(0, numpy.nan)\n",
    "dfDeleted = dfReplaced.dropna()\n",
    "\n",
    "ShowTableInfo(dfReplaced, \"Diabetes dataset - Ceros reemplazados Con NaN\")\n",
    "ShowTableInfo(dfDeleted, \"diabetes dataset - Datos Con NaN Eliminados\")\n",
    "\n",
    "ShowTableShape(df_Main, \"Diabetes dataset original\")\n",
    "ShowTableShape(dfReplaced, \"Diabetes dataset - Ceros reemplazados Con NaN\")\n",
    "ShowTableShape(dfDeleted, \"diabetes dataset - Datos Con NaN Eliminados\")"
   ]
  },
  {
   "cell_type": "markdown",
   "id": "bf318b04",
   "metadata": {},
   "source": [
    "✅ En un nuevo DataFrame imputa los valores faltantes con una estrategia de tu elección y realiza una comparación de los  resultados respecto al dataset sin imputación. \n",
    "\n",
    "Escogemos la mediana que permite usar un valor central sin verse tan afectado por los valores outliers. Es un poco arriesgado reemplazar valores en datos médicos. La ventaja es que se puede mantener los datos para ser utilizados en otros análisis u otro tipo de uso. \n",
    "\n",
    "Al analizar los gráficos en la mayoría de casos imputar mantiene la distribución de los datos. En otros hay una distorsión que es normal ya que usamos la mediana y el imputar genera muchos datos repetidos. "
   ]
  },
  {
   "cell_type": "code",
   "execution_count": null,
   "id": "2d886261",
   "metadata": {},
   "outputs": [],
   "source": [
    "dfImputed = dfReplaced.copy()\n",
    "for col in columnsWith0:\n",
    "    median = dfImputed[col].median()\n",
    "    dfImputed[col] = dfImputed[col].fillna(median)\n",
    "ShowTableStats(dfReplaced, \"Diabetes dataset - Original con NaN\")\n",
    "ShowTableStats(dfImputed, \"Diabetes dataset - NaN imputados con la mediana\")\n",
    "\n",
    "\n",
    "for col in columnsWith0:\n",
    "    pyplot.figure(figsize=(10, 4))\n",
    "    seaborn.kdeplot(dfReplaced[col], label=\"Con NaN\", linestyle=\"--\", color=\"red\")\n",
    "    seaborn.kdeplot(dfImputed[col], label=\"Imputado (mediana)\", color=\"blue\")\n",
    "    pyplot.title(f\"Distribución de '{col}' antes vs. después de imputación\")\n",
    "    pyplot.legend()\n",
    "    pyplot.show()"
   ]
  },
  {
   "cell_type": "markdown",
   "id": "f37617b1",
   "metadata": {},
   "source": [
    "✅ Obtén la matriz de sombras del set de datos que tenías reemplazado los 0 por NaN"
   ]
  },
  {
   "cell_type": "code",
   "execution_count": null,
   "id": "7a43711a",
   "metadata": {},
   "outputs": [],
   "source": [
    "msno.matrix(dfReplaced, figsize=(10, 5), fontsize=12)\n",
    "plt.title(\"Matriz de sombras - Diabetes dataset con Nan\")\n",
    "plt.show()\n",
    "\n",
    "display(\"🟦 Matriz de correlación en columnas con NaN\")\n",
    "display((dfReplaced[columnsWith0].isna()).corr())\n",
    "\n",
    "msno.heatmap(dfReplaced, figsize=(10, 5))\n",
    "plt.title(\"Mapa de calor de correlación entre datos faltantes - Diabetes dataset con Nan\")\n",
    "plt.show()"
   ]
  },
  {
   "cell_type": "markdown",
   "id": "6a023e3d",
   "metadata": {},
   "source": [
    "✅ Realiza el dendograma de estos datos faltantes "
   ]
  },
  {
   "cell_type": "code",
   "execution_count": null,
   "id": "1b947555",
   "metadata": {},
   "outputs": [],
   "source": [
    "msno.dendrogram(dfReplaced, figsize=(10, 6))\n",
    "plt.title(\"Dendrograma de datos faltantes\")\n",
    "plt.show()"
   ]
  },
  {
   "cell_type": "markdown",
   "id": "9c59e3b7",
   "metadata": {},
   "source": [
    "# 3️⃣ Dataset Auto MPG . FASE 3."
   ]
  },
  {
   "cell_type": "code",
   "execution_count": null,
   "id": "8d5236d3",
   "metadata": {},
   "outputs": [],
   "source": [
    "uri = \"https://archive.ics.uci.edu/static/public/9/auto+mpg.zip\""
   ]
  }
 ],
 "metadata": {
  "kernelspec": {
   "display_name": "Python 3",
   "language": "python",
   "name": "python3"
  },
  "language_info": {
   "codemirror_mode": {
    "name": "ipython",
    "version": 3
   },
   "file_extension": ".py",
   "mimetype": "text/x-python",
   "name": "python",
   "nbconvert_exporter": "python",
   "pygments_lexer": "ipython3",
   "version": "3.13.5"
  }
 },
 "nbformat": 4,
 "nbformat_minor": 5
}
